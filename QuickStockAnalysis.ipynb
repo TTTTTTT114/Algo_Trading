{
  "nbformat": 4,
  "nbformat_minor": 0,
  "metadata": {
    "colab": {
      "name": "QuickStockAnalysis.ipynb",
      "provenance": [],
      "authorship_tag": "ABX9TyNTC31vWOt9zvMn0LLFed7V",
      "include_colab_link": true
    },
    "kernelspec": {
      "name": "python3",
      "display_name": "Python 3"
    }
  },
  "cells": [
    {
      "cell_type": "markdown",
      "metadata": {
        "id": "view-in-github",
        "colab_type": "text"
      },
      "source": [
        "<a href=\"https://colab.research.google.com/github/TTTTTTT114/Algo_Trading/blob/master/QuickStockAnalysis.ipynb\" target=\"_parent\"><img src=\"https://colab.research.google.com/assets/colab-badge.svg\" alt=\"Open In Colab\"/></a>"
      ]
    },
    {
      "cell_type": "markdown",
      "metadata": {
        "id": "y89PRIyt1WZf",
        "colab_type": "text"
      },
      "source": [
        "# 1. Goal"
      ]
    },
    {
      "cell_type": "markdown",
      "metadata": {
        "id": "f6lVVFM8034a",
        "colab_type": "text"
      },
      "source": [
        "What we need to implement in the first step\n",
        "\n",
        "5 Basic Quant Strategies:\n",
        "1. Mean Reversion\n",
        "2. Momentum\n",
        "3. Valuation\n",
        "4. Sentiment\n",
        "5. Seasonality"
      ]
    },
    {
      "cell_type": "markdown",
      "metadata": {
        "id": "OxLFt_9zt2I_",
        "colab_type": "text"
      },
      "source": [
        "Source of Lectures and Algos:\n",
        "\n",
        "https://www.quantopian.com/lectures"
      ]
    },
    {
      "cell_type": "code",
      "metadata": {
        "id": "E2FQdF_kvji9",
        "colab_type": "code",
        "outputId": "91a91774-ab00-4444-ef89-5dc9ea9c03b4",
        "colab": {
          "base_uri": "https://localhost:8080/",
          "height": 51
        }
      },
      "source": [
        "import numpy as np\n",
        "import pandas as pd\n",
        "import matplotlib.pyplot as plt\n",
        "import pandas_datareader as pdr\n",
        "import datetime\n",
        "%matplotlib inline"
      ],
      "execution_count": 0,
      "outputs": [
        {
          "output_type": "stream",
          "text": [
            "/usr/local/lib/python3.6/dist-packages/pandas_datareader/compat/__init__.py:7: FutureWarning: pandas.util.testing is deprecated. Use the functions in the public API at pandas.testing instead.\n",
            "  from pandas.util.testing import assert_frame_equal\n"
          ],
          "name": "stderr"
        }
      ]
    },
    {
      "cell_type": "markdown",
      "metadata": {
        "id": "hkOlICYw1feb",
        "colab_type": "text"
      },
      "source": [
        "# 2. Data Source\n",
        "\n",
        "Yahoo finance"
      ]
    },
    {
      "cell_type": "code",
      "metadata": {
        "id": "6hNcphVv_qID",
        "colab_type": "code",
        "outputId": "16c7d1cb-9a99-48dd-df0a-a1f6ec187c04",
        "colab": {
          "base_uri": "https://localhost:8080/",
          "height": 357
        }
      },
      "source": [
        "% pip install yfinance"
      ],
      "execution_count": 0,
      "outputs": [
        {
          "output_type": "stream",
          "text": [
            "Collecting yfinance\n",
            "  Downloading https://files.pythonhosted.org/packages/c2/31/8b374a12b90def92a4e27d0fc595fc43635f395984e36a075244d98bd265/yfinance-0.1.54.tar.gz\n",
            "Requirement already satisfied: pandas>=0.24 in /usr/local/lib/python3.6/dist-packages (from yfinance) (1.0.3)\n",
            "Requirement already satisfied: numpy>=1.15 in /usr/local/lib/python3.6/dist-packages (from yfinance) (1.18.3)\n",
            "Requirement already satisfied: requests>=2.20 in /usr/local/lib/python3.6/dist-packages (from yfinance) (2.23.0)\n",
            "Requirement already satisfied: multitasking>=0.0.7 in /usr/local/lib/python3.6/dist-packages (from yfinance) (0.0.9)\n",
            "Requirement already satisfied: python-dateutil>=2.6.1 in /usr/local/lib/python3.6/dist-packages (from pandas>=0.24->yfinance) (2.8.1)\n",
            "Requirement already satisfied: pytz>=2017.2 in /usr/local/lib/python3.6/dist-packages (from pandas>=0.24->yfinance) (2018.9)\n",
            "Requirement already satisfied: idna<3,>=2.5 in /usr/local/lib/python3.6/dist-packages (from requests>=2.20->yfinance) (2.9)\n",
            "Requirement already satisfied: chardet<4,>=3.0.2 in /usr/local/lib/python3.6/dist-packages (from requests>=2.20->yfinance) (3.0.4)\n",
            "Requirement already satisfied: urllib3!=1.25.0,!=1.25.1,<1.26,>=1.21.1 in /usr/local/lib/python3.6/dist-packages (from requests>=2.20->yfinance) (1.24.3)\n",
            "Requirement already satisfied: certifi>=2017.4.17 in /usr/local/lib/python3.6/dist-packages (from requests>=2.20->yfinance) (2020.4.5.1)\n",
            "Requirement already satisfied: six>=1.5 in /usr/local/lib/python3.6/dist-packages (from python-dateutil>=2.6.1->pandas>=0.24->yfinance) (1.12.0)\n",
            "Building wheels for collected packages: yfinance\n",
            "  Building wheel for yfinance (setup.py) ... \u001b[?25l\u001b[?25hdone\n",
            "  Created wheel for yfinance: filename=yfinance-0.1.54-py2.py3-none-any.whl size=22409 sha256=5f64c9009f01a8dddedd10bca5ccbb49e66023eaa5ad008f237520eb6db7d9c6\n",
            "  Stored in directory: /root/.cache/pip/wheels/f9/e3/5b/ec24dd2984b12d61e0abf26289746c2436a0e7844f26f2515c\n",
            "Successfully built yfinance\n",
            "Installing collected packages: yfinance\n",
            "Successfully installed yfinance-0.1.54\n"
          ],
          "name": "stdout"
        }
      ]
    },
    {
      "cell_type": "code",
      "metadata": {
        "id": "DhPY1KKbz0Gu",
        "colab_type": "code",
        "outputId": "34f63462-b82c-4843-e44d-ce6849eae471",
        "colab": {
          "base_uri": "https://localhost:8080/",
          "height": 306
        }
      },
      "source": [
        "% pip install quandl\n",
        "import quandl"
      ],
      "execution_count": 0,
      "outputs": [
        {
          "output_type": "stream",
          "text": [
            "Collecting quandl\n",
            "  Downloading https://files.pythonhosted.org/packages/07/ab/8cd479fba8a9b197a43a0d55dd534b066fb8e5a0a04b5c0384cbc5d663aa/Quandl-3.5.0-py2.py3-none-any.whl\n",
            "Requirement already satisfied: six in /usr/local/lib/python3.6/dist-packages (from quandl) (1.12.0)\n",
            "Requirement already satisfied: requests>=2.7.0 in /usr/local/lib/python3.6/dist-packages (from quandl) (2.23.0)\n",
            "Requirement already satisfied: numpy>=1.8 in /usr/local/lib/python3.6/dist-packages (from quandl) (1.18.3)\n",
            "Requirement already satisfied: pandas>=0.14 in /usr/local/lib/python3.6/dist-packages (from quandl) (1.0.3)\n",
            "Requirement already satisfied: more-itertools in /usr/local/lib/python3.6/dist-packages (from quandl) (8.2.0)\n",
            "Collecting inflection>=0.3.1\n",
            "  Downloading https://files.pythonhosted.org/packages/52/c1/36be286d85dbd76527fb613527222a795d7c071da195fa916e7bf3cb03cb/inflection-0.4.0-py2.py3-none-any.whl\n",
            "Requirement already satisfied: python-dateutil in /usr/local/lib/python3.6/dist-packages (from quandl) (2.8.1)\n",
            "Requirement already satisfied: certifi>=2017.4.17 in /usr/local/lib/python3.6/dist-packages (from requests>=2.7.0->quandl) (2020.4.5.1)\n",
            "Requirement already satisfied: chardet<4,>=3.0.2 in /usr/local/lib/python3.6/dist-packages (from requests>=2.7.0->quandl) (3.0.4)\n",
            "Requirement already satisfied: idna<3,>=2.5 in /usr/local/lib/python3.6/dist-packages (from requests>=2.7.0->quandl) (2.9)\n",
            "Requirement already satisfied: urllib3!=1.25.0,!=1.25.1,<1.26,>=1.21.1 in /usr/local/lib/python3.6/dist-packages (from requests>=2.7.0->quandl) (1.24.3)\n",
            "Requirement already satisfied: pytz>=2017.2 in /usr/local/lib/python3.6/dist-packages (from pandas>=0.14->quandl) (2018.9)\n",
            "Installing collected packages: inflection, quandl\n",
            "Successfully installed inflection-0.4.0 quandl-3.5.0\n"
          ],
          "name": "stdout"
        }
      ]
    },
    {
      "cell_type": "markdown",
      "metadata": {
        "id": "cnKF8445wU2Q",
        "colab_type": "text"
      },
      "source": [
        " ** **Quandl verification key** **\n",
        "\n",
        "\n",
        " ** bv8Qp32xTuis-Tx7qjmY **"
      ]
    },
    {
      "cell_type": "code",
      "metadata": {
        "id": "iRF8Tl0A0N4L",
        "colab_type": "code",
        "colab": {}
      },
      "source": [
        "# Setting API\n",
        "quandl.ApiConfig.api_key = \"bv8Qp32xTuis-Tx7qjmY\""
      ],
      "execution_count": 0,
      "outputs": []
    },
    {
      "cell_type": "markdown",
      "metadata": {
        "id": "BSXyr600_7_J",
        "colab_type": "text"
      },
      "source": [
        "**Yahoo Finance Data**"
      ]
    },
    {
      "cell_type": "code",
      "metadata": {
        "id": "HF42HULR_7Wq",
        "colab_type": "code",
        "colab": {}
      },
      "source": [
        "import yfinance as yf"
      ],
      "execution_count": 0,
      "outputs": []
    },
    {
      "cell_type": "code",
      "metadata": {
        "id": "Fcyd6x5I_7UU",
        "colab_type": "code",
        "outputId": "03392762-58d4-4008-8197-aa62826ec3ff",
        "colab": {
          "base_uri": "https://localhost:8080/",
          "height": 34
        }
      },
      "source": [
        "tsla = yf.download('TSLA', start='2020-01-01', end='2020-04-27')"
      ],
      "execution_count": 0,
      "outputs": [
        {
          "output_type": "stream",
          "text": [
            "\r[*********************100%***********************]  1 of 1 completed\n"
          ],
          "name": "stdout"
        }
      ]
    },
    {
      "cell_type": "code",
      "metadata": {
        "id": "QcxxCwK9_7SB",
        "colab_type": "code",
        "outputId": "28439269-e1a5-4e80-cd76-a3b6ef081eed",
        "colab": {
          "base_uri": "https://localhost:8080/",
          "height": 235
        }
      },
      "source": [
        "tsla.head()"
      ],
      "execution_count": 0,
      "outputs": [
        {
          "output_type": "execute_result",
          "data": {
            "text/html": [
              "<div>\n",
              "<style scoped>\n",
              "    .dataframe tbody tr th:only-of-type {\n",
              "        vertical-align: middle;\n",
              "    }\n",
              "\n",
              "    .dataframe tbody tr th {\n",
              "        vertical-align: top;\n",
              "    }\n",
              "\n",
              "    .dataframe thead th {\n",
              "        text-align: right;\n",
              "    }\n",
              "</style>\n",
              "<table border=\"1\" class=\"dataframe\">\n",
              "  <thead>\n",
              "    <tr style=\"text-align: right;\">\n",
              "      <th></th>\n",
              "      <th>Open</th>\n",
              "      <th>High</th>\n",
              "      <th>Low</th>\n",
              "      <th>Close</th>\n",
              "      <th>Adj Close</th>\n",
              "      <th>Volume</th>\n",
              "    </tr>\n",
              "    <tr>\n",
              "      <th>Date</th>\n",
              "      <th></th>\n",
              "      <th></th>\n",
              "      <th></th>\n",
              "      <th></th>\n",
              "      <th></th>\n",
              "      <th></th>\n",
              "    </tr>\n",
              "  </thead>\n",
              "  <tbody>\n",
              "    <tr>\n",
              "      <th>2020-01-02</th>\n",
              "      <td>424.500000</td>\n",
              "      <td>430.700012</td>\n",
              "      <td>421.709991</td>\n",
              "      <td>430.260010</td>\n",
              "      <td>430.260010</td>\n",
              "      <td>9532100</td>\n",
              "    </tr>\n",
              "    <tr>\n",
              "      <th>2020-01-03</th>\n",
              "      <td>440.500000</td>\n",
              "      <td>454.000000</td>\n",
              "      <td>436.920013</td>\n",
              "      <td>443.010010</td>\n",
              "      <td>443.010010</td>\n",
              "      <td>17778500</td>\n",
              "    </tr>\n",
              "    <tr>\n",
              "      <th>2020-01-06</th>\n",
              "      <td>440.470001</td>\n",
              "      <td>451.559998</td>\n",
              "      <td>440.000000</td>\n",
              "      <td>451.540009</td>\n",
              "      <td>451.540009</td>\n",
              "      <td>10133000</td>\n",
              "    </tr>\n",
              "    <tr>\n",
              "      <th>2020-01-07</th>\n",
              "      <td>461.399994</td>\n",
              "      <td>471.630005</td>\n",
              "      <td>453.359985</td>\n",
              "      <td>469.059998</td>\n",
              "      <td>469.059998</td>\n",
              "      <td>17882100</td>\n",
              "    </tr>\n",
              "    <tr>\n",
              "      <th>2020-01-08</th>\n",
              "      <td>473.700012</td>\n",
              "      <td>498.489990</td>\n",
              "      <td>468.230011</td>\n",
              "      <td>492.140015</td>\n",
              "      <td>492.140015</td>\n",
              "      <td>31144300</td>\n",
              "    </tr>\n",
              "  </tbody>\n",
              "</table>\n",
              "</div>"
            ],
            "text/plain": [
              "                  Open        High  ...   Adj Close    Volume\n",
              "Date                                ...                      \n",
              "2020-01-02  424.500000  430.700012  ...  430.260010   9532100\n",
              "2020-01-03  440.500000  454.000000  ...  443.010010  17778500\n",
              "2020-01-06  440.470001  451.559998  ...  451.540009  10133000\n",
              "2020-01-07  461.399994  471.630005  ...  469.059998  17882100\n",
              "2020-01-08  473.700012  498.489990  ...  492.140015  31144300\n",
              "\n",
              "[5 rows x 6 columns]"
            ]
          },
          "metadata": {
            "tags": []
          },
          "execution_count": 13
        }
      ]
    },
    {
      "cell_type": "code",
      "metadata": {
        "id": "XMjpqxLGvmwD",
        "colab_type": "code",
        "colab": {}
      },
      "source": [
        ""
      ],
      "execution_count": 0,
      "outputs": []
    },
    {
      "cell_type": "markdown",
      "metadata": {
        "id": "xwkPVcUiK27r",
        "colab_type": "text"
      },
      "source": [
        "# Fundamentals"
      ]
    },
    {
      "cell_type": "markdown",
      "metadata": {
        "id": "-kBWtkylK-bu",
        "colab_type": "text"
      },
      "source": [
        "### Hypothesis Testing\n",
        "\n",
        "The four most common distributions for test statistics are as follows:\n",
        "\n",
        "* The  t -distribution ( t -test)\n",
        "* The standard normal distribution ( z -test)\n",
        "* The chi-square ( χ2 ) distribution ( χ2 -test)\n",
        "* The  F -distribution ( F -test)\n",
        "\n",
        "\n",
        "\n",
        "eg. for a z-test:\n",
        "\n",
        "Assume normal distribution(Be careful when applying the Central Limit Theorem, however, as many datasets in finance are fundamentally non-normal and it is not safe to apply the theorem casually or without attention to subtlety.) \n",
        "\n",
        "$$\n",
        "Z = \\frac{(x - \\mu)}{\\sigma / \\sqrt{n}}\n",
        "$$\n",
        "\n",
        "x sample mean\n",
        "\n",
        "mu target value\n",
        "\n",
        "sigma sample variance\n",
        "\n",
        "n sample size"
      ]
    },
    {
      "cell_type": "markdown",
      "metadata": {
        "id": "3k0wPC5WtJEn",
        "colab_type": "text"
      },
      "source": [
        "**The following are the main steps in hypothesis testing:**\n",
        "\n",
        "1. State the hypothesis and the alternative to the hypothesis\n",
        "2. Identify the appropriate test statistic and its distribution. Ensure that any assumptions about the data are met (stationarity, normality, etc.)\n",
        "3. Specify the significance level,  α \n",
        "4. From  α  and the distribution compute the 'critical value'.\n",
        "5. Collect the data and calculate the test statistic\n",
        "6. Compare test statistic with critical value and decide whether to accept or reject the hypothesis.\n",
        "\n",
        "- null hypothesis H0\n",
        "\n",
        "- alternative hypothesis H1\n",
        "\n",
        "- confidence interval 95% (conventional sig_level: 0.1, 0.05, 0.01)"
      ]
    },
    {
      "cell_type": "markdown",
      "metadata": {
        "id": "fE7H7RHJu3mv",
        "colab_type": "text"
      },
      "source": [
        "The most common type of hypothesis test is the two-tailed, \"not equal to\", hypothesis test, because it presents a neutral view. **The one-tailed hypothesis tests are less neutral than the \"not equal to\" test**, reflecting the thoughts of the tester. One-tailed tests are often used to test \"hoped for\" results or results that the testers have a **prior idea** about."
      ]
    },
    {
      "cell_type": "code",
      "metadata": {
        "id": "1Ii_JOyOzT43",
        "colab_type": "code",
        "colab": {}
      },
      "source": [
        "#                                 True Situation\n",
        "\n",
        "# Decision                        H0 True                 H0 False\n",
        "\n",
        "# Do not reject H0                Correnct Decision       Type 2 Error\n",
        "\n",
        "# Reject H0 (Accept HA)           Type 1 Error            Correct Decision"
      ],
      "execution_count": 0,
      "outputs": []
    },
    {
      "cell_type": "markdown",
      "metadata": {
        "id": "FOwAlFhp1IWU",
        "colab_type": "text"
      },
      "source": [
        "![alt text](https://sixsigmastudyguide.com/wp-content/uploads/2014/04/z-table.jpg)"
      ]
    },
    {
      "cell_type": "markdown",
      "metadata": {
        "id": "NKs7phaoFVh_",
        "colab_type": "text"
      },
      "source": [
        "##Performance Measurement - KPIs"
      ]
    },
    {
      "cell_type": "markdown",
      "metadata": {
        "id": "2ilkqZEOtlDm",
        "colab_type": "text"
      },
      "source": [
        "Daily Return "
      ]
    },
    {
      "cell_type": "code",
      "metadata": {
        "id": "HI-S0aYhtivC",
        "colab_type": "code",
        "colab": {}
      },
      "source": [
        "'''\n",
        "Close_next_day / Close_current_day - 1\n",
        "\n",
        "'''"
      ],
      "execution_count": 0,
      "outputs": []
    },
    {
      "cell_type": "code",
      "metadata": {
        "id": "QMiv0mddtis9",
        "colab_type": "code",
        "colab": {}
      },
      "source": [
        "tsla['Daily Returns'] = tsla['Adj Close'].pct_change()"
      ],
      "execution_count": 0,
      "outputs": []
    },
    {
      "cell_type": "code",
      "metadata": {
        "id": "sYENiHJcuGKO",
        "colab_type": "code",
        "outputId": "838f6041-f4bf-443a-fc07-651882bcbb7b",
        "colab": {
          "base_uri": "https://localhost:8080/",
          "height": 235
        }
      },
      "source": [
        "tsla.head()"
      ],
      "execution_count": 0,
      "outputs": [
        {
          "output_type": "execute_result",
          "data": {
            "text/html": [
              "<div>\n",
              "<style scoped>\n",
              "    .dataframe tbody tr th:only-of-type {\n",
              "        vertical-align: middle;\n",
              "    }\n",
              "\n",
              "    .dataframe tbody tr th {\n",
              "        vertical-align: top;\n",
              "    }\n",
              "\n",
              "    .dataframe thead th {\n",
              "        text-align: right;\n",
              "    }\n",
              "</style>\n",
              "<table border=\"1\" class=\"dataframe\">\n",
              "  <thead>\n",
              "    <tr style=\"text-align: right;\">\n",
              "      <th></th>\n",
              "      <th>Open</th>\n",
              "      <th>High</th>\n",
              "      <th>Low</th>\n",
              "      <th>Close</th>\n",
              "      <th>Adj Close</th>\n",
              "      <th>Volume</th>\n",
              "      <th>Daily Returns</th>\n",
              "    </tr>\n",
              "    <tr>\n",
              "      <th>Date</th>\n",
              "      <th></th>\n",
              "      <th></th>\n",
              "      <th></th>\n",
              "      <th></th>\n",
              "      <th></th>\n",
              "      <th></th>\n",
              "      <th></th>\n",
              "    </tr>\n",
              "  </thead>\n",
              "  <tbody>\n",
              "    <tr>\n",
              "      <th>2020-01-02</th>\n",
              "      <td>424.500000</td>\n",
              "      <td>430.700012</td>\n",
              "      <td>421.709991</td>\n",
              "      <td>430.260010</td>\n",
              "      <td>430.260010</td>\n",
              "      <td>9532100</td>\n",
              "      <td>NaN</td>\n",
              "    </tr>\n",
              "    <tr>\n",
              "      <th>2020-01-03</th>\n",
              "      <td>440.500000</td>\n",
              "      <td>454.000000</td>\n",
              "      <td>436.920013</td>\n",
              "      <td>443.010010</td>\n",
              "      <td>443.010010</td>\n",
              "      <td>17778500</td>\n",
              "      <td>0.029633</td>\n",
              "    </tr>\n",
              "    <tr>\n",
              "      <th>2020-01-06</th>\n",
              "      <td>440.470001</td>\n",
              "      <td>451.559998</td>\n",
              "      <td>440.000000</td>\n",
              "      <td>451.540009</td>\n",
              "      <td>451.540009</td>\n",
              "      <td>10133000</td>\n",
              "      <td>0.019255</td>\n",
              "    </tr>\n",
              "    <tr>\n",
              "      <th>2020-01-07</th>\n",
              "      <td>461.399994</td>\n",
              "      <td>471.630005</td>\n",
              "      <td>453.359985</td>\n",
              "      <td>469.059998</td>\n",
              "      <td>469.059998</td>\n",
              "      <td>17882100</td>\n",
              "      <td>0.038801</td>\n",
              "    </tr>\n",
              "    <tr>\n",
              "      <th>2020-01-08</th>\n",
              "      <td>473.700012</td>\n",
              "      <td>498.489990</td>\n",
              "      <td>468.230011</td>\n",
              "      <td>492.140015</td>\n",
              "      <td>492.140015</td>\n",
              "      <td>31144300</td>\n",
              "      <td>0.049205</td>\n",
              "    </tr>\n",
              "  </tbody>\n",
              "</table>\n",
              "</div>"
            ],
            "text/plain": [
              "                  Open        High  ...    Volume  Daily Returns\n",
              "Date                                ...                         \n",
              "2020-01-02  424.500000  430.700012  ...   9532100            NaN\n",
              "2020-01-03  440.500000  454.000000  ...  17778500       0.029633\n",
              "2020-01-06  440.470001  451.559998  ...  10133000       0.019255\n",
              "2020-01-07  461.399994  471.630005  ...  17882100       0.038801\n",
              "2020-01-08  473.700012  498.489990  ...  31144300       0.049205\n",
              "\n",
              "[5 rows x 7 columns]"
            ]
          },
          "metadata": {
            "tags": []
          },
          "execution_count": 20
        }
      ]
    },
    {
      "cell_type": "markdown",
      "metadata": {
        "id": "y76QfQ-TqfVu",
        "colab_type": "text"
      },
      "source": [
        "CAGR (Conpound Annual Growth Rate)"
      ]
    },
    {
      "cell_type": "code",
      "metadata": {
        "id": "TsTVT9aavmth",
        "colab_type": "code",
        "colab": {}
      },
      "source": [
        "'''\n",
        "\n",
        "CAGR = (V_final/V_begin)^(1/t) - 1\n",
        "\n",
        "V_final is the final value of the asset\n",
        "V_begin is the beginning value of the asset\n",
        "t is the time in years\n",
        "\n",
        "'''"
      ],
      "execution_count": 0,
      "outputs": []
    },
    {
      "cell_type": "code",
      "metadata": {
        "id": "59wRbEZovmq9",
        "colab_type": "code",
        "colab": {}
      },
      "source": [
        "# def a function that calculate the CAGR\n",
        "# This is a single value of CAGR\n",
        "def CAGR(start, end, period):\n",
        "    V_begin = start\n",
        "    V_final = end\n",
        "    t = period\n",
        "    return (V_final/V_begin)**(1/t) - 1"
      ],
      "execution_count": 0,
      "outputs": []
    },
    {
      "cell_type": "code",
      "metadata": {
        "id": "-KgGBh0dvmoc",
        "colab_type": "code",
        "outputId": "fd413381-cc4e-4203-8246-53b54b52feb9",
        "colab": {
          "base_uri": "https://localhost:8080/",
          "height": 34
        }
      },
      "source": [
        "# example \n",
        "CAGR(10000, 19000, 3)"
      ],
      "execution_count": 0,
      "outputs": [
        {
          "output_type": "execute_result",
          "data": {
            "text/plain": [
              "0.23856232963017088"
            ]
          },
          "metadata": {
            "tags": []
          },
          "execution_count": 5
        }
      ]
    },
    {
      "cell_type": "markdown",
      "metadata": {
        "id": "75rnErT4v9CI",
        "colab_type": "text"
      },
      "source": [
        "Volatility Measure"
      ]
    },
    {
      "cell_type": "code",
      "metadata": {
        "id": "Xk4_xuFowCSs",
        "colab_type": "code",
        "colab": {}
      },
      "source": [
        ""
      ],
      "execution_count": 0,
      "outputs": []
    },
    {
      "cell_type": "code",
      "metadata": {
        "id": "24xn7czmwCVQ",
        "colab_type": "code",
        "colab": {}
      },
      "source": [
        ""
      ],
      "execution_count": 0,
      "outputs": []
    },
    {
      "cell_type": "code",
      "metadata": {
        "id": "VAAHAp-4ku9O",
        "colab_type": "code",
        "colab": {}
      },
      "source": [
        ""
      ],
      "execution_count": 0,
      "outputs": []
    }
  ]
}