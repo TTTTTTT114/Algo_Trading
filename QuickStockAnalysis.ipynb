{
  "nbformat": 4,
  "nbformat_minor": 0,
  "metadata": {
    "colab": {
      "name": "QuickStockAnalysis.ipynb",
      "provenance": [],
      "authorship_tag": "ABX9TyNTTpDCXF6hDZYe2YSEvJLh",
      "include_colab_link": true
    },
    "kernelspec": {
      "name": "python3",
      "display_name": "Python 3"
    }
  },
  "cells": [
    {
      "cell_type": "markdown",
      "metadata": {
        "id": "view-in-github",
        "colab_type": "text"
      },
      "source": [
        "<a href=\"https://colab.research.google.com/github/TTTTTTT114/Algo_Trading/blob/master/QuickStockAnalysis.ipynb\" target=\"_parent\"><img src=\"https://colab.research.google.com/assets/colab-badge.svg\" alt=\"Open In Colab\"/></a>"
      ]
    },
    {
      "cell_type": "markdown",
      "metadata": {
        "id": "y89PRIyt1WZf",
        "colab_type": "text"
      },
      "source": [
        "# 1. Goal"
      ]
    },
    {
      "cell_type": "markdown",
      "metadata": {
        "id": "f6lVVFM8034a",
        "colab_type": "text"
      },
      "source": [
        "What we need to implement in the first step\n",
        "\n",
        "5 Basic Quant Strategies:\n",
        "1. Mean Reversion\n",
        "2. Momentum\n",
        "3. Valuation\n",
        "4. Sentiment\n",
        "5. Seasonality"
      ]
    },
    {
      "cell_type": "markdown",
      "metadata": {
        "id": "OxLFt_9zt2I_",
        "colab_type": "text"
      },
      "source": [
        "Source of Lectures and Algos:\n",
        "\n",
        "https://www.quantopian.com/lectures"
      ]
    },
    {
      "cell_type": "code",
      "metadata": {
        "id": "E2FQdF_kvji9",
        "colab_type": "code",
        "colab": {}
      },
      "source": [
        "import numpy as np\n",
        "import pandas as pd\n",
        "import matplotlib.pyplot as plt\n",
        "import pandas_datareader as pdr\n",
        "import io, base64, os, json, re\n",
        "import datetime\n",
        "%matplotlib inline"
      ],
      "execution_count": 0,
      "outputs": []
    },
    {
      "cell_type": "markdown",
      "metadata": {
        "id": "hkOlICYw1feb",
        "colab_type": "text"
      },
      "source": [
        "# 2. Data Source\n",
        "\n",
        "Yahoo finance"
      ]
    },
    {
      "cell_type": "code",
      "metadata": {
        "id": "6hNcphVv_qID",
        "colab_type": "code",
        "outputId": "c06d5ace-4ca4-4a6b-bf26-9a5bfbcbb256",
        "colab": {
          "base_uri": "https://localhost:8080/",
          "height": 357
        }
      },
      "source": [
        "% pip install yfinance"
      ],
      "execution_count": 2,
      "outputs": [
        {
          "output_type": "stream",
          "text": [
            "Collecting yfinance\n",
            "  Downloading https://files.pythonhosted.org/packages/c2/31/8b374a12b90def92a4e27d0fc595fc43635f395984e36a075244d98bd265/yfinance-0.1.54.tar.gz\n",
            "Requirement already satisfied: pandas>=0.24 in /usr/local/lib/python3.6/dist-packages (from yfinance) (1.0.3)\n",
            "Requirement already satisfied: numpy>=1.15 in /usr/local/lib/python3.6/dist-packages (from yfinance) (1.18.3)\n",
            "Requirement already satisfied: requests>=2.20 in /usr/local/lib/python3.6/dist-packages (from yfinance) (2.23.0)\n",
            "Requirement already satisfied: multitasking>=0.0.7 in /usr/local/lib/python3.6/dist-packages (from yfinance) (0.0.9)\n",
            "Requirement already satisfied: python-dateutil>=2.6.1 in /usr/local/lib/python3.6/dist-packages (from pandas>=0.24->yfinance) (2.8.1)\n",
            "Requirement already satisfied: pytz>=2017.2 in /usr/local/lib/python3.6/dist-packages (from pandas>=0.24->yfinance) (2018.9)\n",
            "Requirement already satisfied: idna<3,>=2.5 in /usr/local/lib/python3.6/dist-packages (from requests>=2.20->yfinance) (2.9)\n",
            "Requirement already satisfied: certifi>=2017.4.17 in /usr/local/lib/python3.6/dist-packages (from requests>=2.20->yfinance) (2020.4.5.1)\n",
            "Requirement already satisfied: chardet<4,>=3.0.2 in /usr/local/lib/python3.6/dist-packages (from requests>=2.20->yfinance) (3.0.4)\n",
            "Requirement already satisfied: urllib3!=1.25.0,!=1.25.1,<1.26,>=1.21.1 in /usr/local/lib/python3.6/dist-packages (from requests>=2.20->yfinance) (1.24.3)\n",
            "Requirement already satisfied: six>=1.5 in /usr/local/lib/python3.6/dist-packages (from python-dateutil>=2.6.1->pandas>=0.24->yfinance) (1.12.0)\n",
            "Building wheels for collected packages: yfinance\n",
            "  Building wheel for yfinance (setup.py) ... \u001b[?25l\u001b[?25hdone\n",
            "  Created wheel for yfinance: filename=yfinance-0.1.54-py2.py3-none-any.whl size=22409 sha256=2b61f722a4b5518bcc85565ba68502e1a9383fbfaf72366607939badf6b44c25\n",
            "  Stored in directory: /root/.cache/pip/wheels/f9/e3/5b/ec24dd2984b12d61e0abf26289746c2436a0e7844f26f2515c\n",
            "Successfully built yfinance\n",
            "Installing collected packages: yfinance\n",
            "Successfully installed yfinance-0.1.54\n"
          ],
          "name": "stdout"
        }
      ]
    },
    {
      "cell_type": "code",
      "metadata": {
        "id": "DhPY1KKbz0Gu",
        "colab_type": "code",
        "outputId": "9a23d7f4-3a40-41da-f83c-a13d6b1d1d3b",
        "colab": {
          "base_uri": "https://localhost:8080/",
          "height": 306
        }
      },
      "source": [
        "% pip install quandl\n",
        "import quandl"
      ],
      "execution_count": 3,
      "outputs": [
        {
          "output_type": "stream",
          "text": [
            "Collecting quandl\n",
            "  Downloading https://files.pythonhosted.org/packages/07/ab/8cd479fba8a9b197a43a0d55dd534b066fb8e5a0a04b5c0384cbc5d663aa/Quandl-3.5.0-py2.py3-none-any.whl\n",
            "Requirement already satisfied: numpy>=1.8 in /usr/local/lib/python3.6/dist-packages (from quandl) (1.18.3)\n",
            "Requirement already satisfied: more-itertools in /usr/local/lib/python3.6/dist-packages (from quandl) (8.2.0)\n",
            "Collecting inflection>=0.3.1\n",
            "  Downloading https://files.pythonhosted.org/packages/52/c1/36be286d85dbd76527fb613527222a795d7c071da195fa916e7bf3cb03cb/inflection-0.4.0-py2.py3-none-any.whl\n",
            "Requirement already satisfied: requests>=2.7.0 in /usr/local/lib/python3.6/dist-packages (from quandl) (2.23.0)\n",
            "Requirement already satisfied: python-dateutil in /usr/local/lib/python3.6/dist-packages (from quandl) (2.8.1)\n",
            "Requirement already satisfied: six in /usr/local/lib/python3.6/dist-packages (from quandl) (1.12.0)\n",
            "Requirement already satisfied: pandas>=0.14 in /usr/local/lib/python3.6/dist-packages (from quandl) (1.0.3)\n",
            "Requirement already satisfied: urllib3!=1.25.0,!=1.25.1,<1.26,>=1.21.1 in /usr/local/lib/python3.6/dist-packages (from requests>=2.7.0->quandl) (1.24.3)\n",
            "Requirement already satisfied: chardet<4,>=3.0.2 in /usr/local/lib/python3.6/dist-packages (from requests>=2.7.0->quandl) (3.0.4)\n",
            "Requirement already satisfied: idna<3,>=2.5 in /usr/local/lib/python3.6/dist-packages (from requests>=2.7.0->quandl) (2.9)\n",
            "Requirement already satisfied: certifi>=2017.4.17 in /usr/local/lib/python3.6/dist-packages (from requests>=2.7.0->quandl) (2020.4.5.1)\n",
            "Requirement already satisfied: pytz>=2017.2 in /usr/local/lib/python3.6/dist-packages (from pandas>=0.14->quandl) (2018.9)\n",
            "Installing collected packages: inflection, quandl\n",
            "Successfully installed inflection-0.4.0 quandl-3.5.0\n"
          ],
          "name": "stdout"
        }
      ]
    },
    {
      "cell_type": "markdown",
      "metadata": {
        "id": "cnKF8445wU2Q",
        "colab_type": "text"
      },
      "source": [
        " ** **Quandl verification key** **\n",
        "\n",
        "\n",
        " ** bv8Qp32xTuis-Tx7qjmY **"
      ]
    },
    {
      "cell_type": "code",
      "metadata": {
        "id": "iRF8Tl0A0N4L",
        "colab_type": "code",
        "colab": {}
      },
      "source": [
        "# Setting API\n",
        "quandl.ApiConfig.api_key = \"bv8Qp32xTuis-Tx7qjmY\""
      ],
      "execution_count": 0,
      "outputs": []
    },
    {
      "cell_type": "markdown",
      "metadata": {
        "id": "BSXyr600_7_J",
        "colab_type": "text"
      },
      "source": [
        "**Yahoo Finance Data**"
      ]
    },
    {
      "cell_type": "code",
      "metadata": {
        "id": "HF42HULR_7Wq",
        "colab_type": "code",
        "colab": {}
      },
      "source": [
        "import yfinance as yf"
      ],
      "execution_count": 0,
      "outputs": []
    },
    {
      "cell_type": "code",
      "metadata": {
        "id": "Fcyd6x5I_7UU",
        "colab_type": "code",
        "outputId": "0eb72c70-b1ea-4ba9-bef6-151250793af1",
        "colab": {
          "base_uri": "https://localhost:8080/",
          "height": 34
        }
      },
      "source": [
        "tsla = yf.download('TSLA', start='2020-01-01', end='2020-04-27')"
      ],
      "execution_count": 6,
      "outputs": [
        {
          "output_type": "stream",
          "text": [
            "\r[*********************100%***********************]  1 of 1 completed\n"
          ],
          "name": "stdout"
        }
      ]
    },
    {
      "cell_type": "code",
      "metadata": {
        "id": "QcxxCwK9_7SB",
        "colab_type": "code",
        "outputId": "276b5a0a-2db7-4ee3-dbdc-ae45445af4c7",
        "colab": {
          "base_uri": "https://localhost:8080/",
          "height": 235
        }
      },
      "source": [
        "tsla.head()"
      ],
      "execution_count": 7,
      "outputs": [
        {
          "output_type": "execute_result",
          "data": {
            "text/html": [
              "<div>\n",
              "<style scoped>\n",
              "    .dataframe tbody tr th:only-of-type {\n",
              "        vertical-align: middle;\n",
              "    }\n",
              "\n",
              "    .dataframe tbody tr th {\n",
              "        vertical-align: top;\n",
              "    }\n",
              "\n",
              "    .dataframe thead th {\n",
              "        text-align: right;\n",
              "    }\n",
              "</style>\n",
              "<table border=\"1\" class=\"dataframe\">\n",
              "  <thead>\n",
              "    <tr style=\"text-align: right;\">\n",
              "      <th></th>\n",
              "      <th>Open</th>\n",
              "      <th>High</th>\n",
              "      <th>Low</th>\n",
              "      <th>Close</th>\n",
              "      <th>Adj Close</th>\n",
              "      <th>Volume</th>\n",
              "    </tr>\n",
              "    <tr>\n",
              "      <th>Date</th>\n",
              "      <th></th>\n",
              "      <th></th>\n",
              "      <th></th>\n",
              "      <th></th>\n",
              "      <th></th>\n",
              "      <th></th>\n",
              "    </tr>\n",
              "  </thead>\n",
              "  <tbody>\n",
              "    <tr>\n",
              "      <th>2020-01-02</th>\n",
              "      <td>424.500000</td>\n",
              "      <td>430.700012</td>\n",
              "      <td>421.709991</td>\n",
              "      <td>430.260010</td>\n",
              "      <td>430.260010</td>\n",
              "      <td>9532100</td>\n",
              "    </tr>\n",
              "    <tr>\n",
              "      <th>2020-01-03</th>\n",
              "      <td>440.500000</td>\n",
              "      <td>454.000000</td>\n",
              "      <td>436.920013</td>\n",
              "      <td>443.010010</td>\n",
              "      <td>443.010010</td>\n",
              "      <td>17778500</td>\n",
              "    </tr>\n",
              "    <tr>\n",
              "      <th>2020-01-06</th>\n",
              "      <td>440.470001</td>\n",
              "      <td>451.559998</td>\n",
              "      <td>440.000000</td>\n",
              "      <td>451.540009</td>\n",
              "      <td>451.540009</td>\n",
              "      <td>10133000</td>\n",
              "    </tr>\n",
              "    <tr>\n",
              "      <th>2020-01-07</th>\n",
              "      <td>461.399994</td>\n",
              "      <td>471.630005</td>\n",
              "      <td>453.359985</td>\n",
              "      <td>469.059998</td>\n",
              "      <td>469.059998</td>\n",
              "      <td>17882100</td>\n",
              "    </tr>\n",
              "    <tr>\n",
              "      <th>2020-01-08</th>\n",
              "      <td>473.700012</td>\n",
              "      <td>498.489990</td>\n",
              "      <td>468.230011</td>\n",
              "      <td>492.140015</td>\n",
              "      <td>492.140015</td>\n",
              "      <td>31144300</td>\n",
              "    </tr>\n",
              "  </tbody>\n",
              "</table>\n",
              "</div>"
            ],
            "text/plain": [
              "                  Open        High  ...   Adj Close    Volume\n",
              "Date                                ...                      \n",
              "2020-01-02  424.500000  430.700012  ...  430.260010   9532100\n",
              "2020-01-03  440.500000  454.000000  ...  443.010010  17778500\n",
              "2020-01-06  440.470001  451.559998  ...  451.540009  10133000\n",
              "2020-01-07  461.399994  471.630005  ...  469.059998  17882100\n",
              "2020-01-08  473.700012  498.489990  ...  492.140015  31144300\n",
              "\n",
              "[5 rows x 6 columns]"
            ]
          },
          "metadata": {
            "tags": []
          },
          "execution_count": 7
        }
      ]
    },
    {
      "cell_type": "code",
      "metadata": {
        "id": "8GoQ3DozFzVK",
        "colab_type": "code",
        "outputId": "6f1793ed-4768-4a19-89a7-7cb7eb58c77a",
        "colab": {
          "base_uri": "https://localhost:8080/",
          "height": 51
        }
      },
      "source": [
        "spy_08 = yf.download('SPY', start = '2007-01-01', end='2009-06-01')\n",
        "spy_20 = yf.download('SPY', start = '2019-01-01', end='2020-05-01')"
      ],
      "execution_count": 8,
      "outputs": [
        {
          "output_type": "stream",
          "text": [
            "[*********************100%***********************]  1 of 1 completed\n",
            "[*********************100%***********************]  1 of 1 completed\n"
          ],
          "name": "stdout"
        }
      ]
    },
    {
      "cell_type": "code",
      "metadata": {
        "id": "XMjpqxLGvmwD",
        "colab_type": "code",
        "colab": {}
      },
      "source": [
        ""
      ],
      "execution_count": 0,
      "outputs": []
    },
    {
      "cell_type": "markdown",
      "metadata": {
        "id": "xwkPVcUiK27r",
        "colab_type": "text"
      },
      "source": [
        "# Fundamentals"
      ]
    },
    {
      "cell_type": "markdown",
      "metadata": {
        "id": "-kBWtkylK-bu",
        "colab_type": "text"
      },
      "source": [
        "### Hypothesis Testing\n",
        "\n",
        "The four most common distributions for test statistics are as follows:\n",
        "\n",
        "* The  t -distribution ( t -test)\n",
        "* The standard normal distribution ( z -test)\n",
        "* The chi-square ( χ2 ) distribution ( χ2 -test)\n",
        "* The  F -distribution ( F -test)\n",
        "\n",
        "\n",
        "\n",
        "eg. for a z-test:\n",
        "\n",
        "Assume normal distribution(Be careful when applying the Central Limit Theorem, however, as many datasets in finance are fundamentally non-normal and it is not safe to apply the theorem casually or without attention to subtlety.) \n",
        "\n",
        "$$\n",
        "Z = \\frac{(x - \\mu)}{\\sigma / \\sqrt{n}}\n",
        "$$\n",
        "\n",
        "x sample mean\n",
        "\n",
        "mu target value\n",
        "\n",
        "sigma sample variance\n",
        "\n",
        "n sample size"
      ]
    },
    {
      "cell_type": "markdown",
      "metadata": {
        "id": "3k0wPC5WtJEn",
        "colab_type": "text"
      },
      "source": [
        "**The following are the main steps in hypothesis testing:**\n",
        "\n",
        "1. State the hypothesis and the alternative to the hypothesis\n",
        "2. Identify the appropriate test statistic and its distribution. Ensure that any assumptions about the data are met (stationarity, normality, etc.)\n",
        "3. Specify the significance level,  α \n",
        "4. From  α  and the distribution compute the 'critical value'.\n",
        "5. Collect the data and calculate the test statistic\n",
        "6. Compare test statistic with critical value and decide whether to accept or reject the hypothesis.\n",
        "\n",
        "- null hypothesis H0\n",
        "\n",
        "- alternative hypothesis H1\n",
        "\n",
        "- confidence interval 95% (conventional sig_level: 0.1, 0.05, 0.01)"
      ]
    },
    {
      "cell_type": "markdown",
      "metadata": {
        "id": "fE7H7RHJu3mv",
        "colab_type": "text"
      },
      "source": [
        "The most common type of hypothesis test is the two-tailed, \"not equal to\", hypothesis test, because it presents a neutral view. **The one-tailed hypothesis tests are less neutral than the \"not equal to\" test**, reflecting the thoughts of the tester. One-tailed tests are often used to test \"hoped for\" results or results that the testers have a **prior idea** about."
      ]
    },
    {
      "cell_type": "code",
      "metadata": {
        "id": "1Ii_JOyOzT43",
        "colab_type": "code",
        "colab": {}
      },
      "source": [
        "#                                 True Situation\n",
        "\n",
        "# Decision                        H0 True                 H0 False\n",
        "\n",
        "# Do not reject H0                Correnct Decision       Type 2 Error\n",
        "\n",
        "# Reject H0 (Accept HA)           Type 1 Error            Correct Decision"
      ],
      "execution_count": 0,
      "outputs": []
    },
    {
      "cell_type": "markdown",
      "metadata": {
        "id": "FOwAlFhp1IWU",
        "colab_type": "text"
      },
      "source": [
        "![alt text](https://sixsigmastudyguide.com/wp-content/uploads/2014/04/z-table.jpg)"
      ]
    },
    {
      "cell_type": "markdown",
      "metadata": {
        "id": "NKs7phaoFVh_",
        "colab_type": "text"
      },
      "source": [
        "##Performance Measurement - KPIs"
      ]
    },
    {
      "cell_type": "markdown",
      "metadata": {
        "id": "2ilkqZEOtlDm",
        "colab_type": "text"
      },
      "source": [
        "- Daily Return "
      ]
    },
    {
      "cell_type": "code",
      "metadata": {
        "id": "HI-S0aYhtivC",
        "colab_type": "code",
        "colab": {
          "base_uri": "https://localhost:8080/",
          "height": 34
        },
        "outputId": "acc82d8f-92c6-4500-a0f6-52bd614de48d"
      },
      "source": [
        "'''\n",
        "Close_next_day / Close_current_day - 1\n",
        "\n",
        "'''"
      ],
      "execution_count": 9,
      "outputs": [
        {
          "output_type": "execute_result",
          "data": {
            "text/plain": [
              "'\\nClose_next_day / Close_current_day - 1\\n\\n'"
            ]
          },
          "metadata": {
            "tags": []
          },
          "execution_count": 9
        }
      ]
    },
    {
      "cell_type": "code",
      "metadata": {
        "id": "QMiv0mddtis9",
        "colab_type": "code",
        "colab": {}
      },
      "source": [
        "tsla['Daily Returns'] = tsla['Adj Close'].pct_change()"
      ],
      "execution_count": 0,
      "outputs": []
    },
    {
      "cell_type": "code",
      "metadata": {
        "id": "sYENiHJcuGKO",
        "colab_type": "code",
        "outputId": "04778d88-1266-42e5-bbae-af8fb09d4490",
        "colab": {
          "base_uri": "https://localhost:8080/",
          "height": 235
        }
      },
      "source": [
        "tsla.head()"
      ],
      "execution_count": 11,
      "outputs": [
        {
          "output_type": "execute_result",
          "data": {
            "text/html": [
              "<div>\n",
              "<style scoped>\n",
              "    .dataframe tbody tr th:only-of-type {\n",
              "        vertical-align: middle;\n",
              "    }\n",
              "\n",
              "    .dataframe tbody tr th {\n",
              "        vertical-align: top;\n",
              "    }\n",
              "\n",
              "    .dataframe thead th {\n",
              "        text-align: right;\n",
              "    }\n",
              "</style>\n",
              "<table border=\"1\" class=\"dataframe\">\n",
              "  <thead>\n",
              "    <tr style=\"text-align: right;\">\n",
              "      <th></th>\n",
              "      <th>Open</th>\n",
              "      <th>High</th>\n",
              "      <th>Low</th>\n",
              "      <th>Close</th>\n",
              "      <th>Adj Close</th>\n",
              "      <th>Volume</th>\n",
              "      <th>Daily Returns</th>\n",
              "    </tr>\n",
              "    <tr>\n",
              "      <th>Date</th>\n",
              "      <th></th>\n",
              "      <th></th>\n",
              "      <th></th>\n",
              "      <th></th>\n",
              "      <th></th>\n",
              "      <th></th>\n",
              "      <th></th>\n",
              "    </tr>\n",
              "  </thead>\n",
              "  <tbody>\n",
              "    <tr>\n",
              "      <th>2020-01-02</th>\n",
              "      <td>424.500000</td>\n",
              "      <td>430.700012</td>\n",
              "      <td>421.709991</td>\n",
              "      <td>430.260010</td>\n",
              "      <td>430.260010</td>\n",
              "      <td>9532100</td>\n",
              "      <td>NaN</td>\n",
              "    </tr>\n",
              "    <tr>\n",
              "      <th>2020-01-03</th>\n",
              "      <td>440.500000</td>\n",
              "      <td>454.000000</td>\n",
              "      <td>436.920013</td>\n",
              "      <td>443.010010</td>\n",
              "      <td>443.010010</td>\n",
              "      <td>17778500</td>\n",
              "      <td>0.029633</td>\n",
              "    </tr>\n",
              "    <tr>\n",
              "      <th>2020-01-06</th>\n",
              "      <td>440.470001</td>\n",
              "      <td>451.559998</td>\n",
              "      <td>440.000000</td>\n",
              "      <td>451.540009</td>\n",
              "      <td>451.540009</td>\n",
              "      <td>10133000</td>\n",
              "      <td>0.019255</td>\n",
              "    </tr>\n",
              "    <tr>\n",
              "      <th>2020-01-07</th>\n",
              "      <td>461.399994</td>\n",
              "      <td>471.630005</td>\n",
              "      <td>453.359985</td>\n",
              "      <td>469.059998</td>\n",
              "      <td>469.059998</td>\n",
              "      <td>17882100</td>\n",
              "      <td>0.038801</td>\n",
              "    </tr>\n",
              "    <tr>\n",
              "      <th>2020-01-08</th>\n",
              "      <td>473.700012</td>\n",
              "      <td>498.489990</td>\n",
              "      <td>468.230011</td>\n",
              "      <td>492.140015</td>\n",
              "      <td>492.140015</td>\n",
              "      <td>31144300</td>\n",
              "      <td>0.049205</td>\n",
              "    </tr>\n",
              "  </tbody>\n",
              "</table>\n",
              "</div>"
            ],
            "text/plain": [
              "                  Open        High  ...    Volume  Daily Returns\n",
              "Date                                ...                         \n",
              "2020-01-02  424.500000  430.700012  ...   9532100            NaN\n",
              "2020-01-03  440.500000  454.000000  ...  17778500       0.029633\n",
              "2020-01-06  440.470001  451.559998  ...  10133000       0.019255\n",
              "2020-01-07  461.399994  471.630005  ...  17882100       0.038801\n",
              "2020-01-08  473.700012  498.489990  ...  31144300       0.049205\n",
              "\n",
              "[5 rows x 7 columns]"
            ]
          },
          "metadata": {
            "tags": []
          },
          "execution_count": 11
        }
      ]
    },
    {
      "cell_type": "markdown",
      "metadata": {
        "id": "y76QfQ-TqfVu",
        "colab_type": "text"
      },
      "source": [
        "- CAGR (Conpound Annual Growth Rate)"
      ]
    },
    {
      "cell_type": "code",
      "metadata": {
        "id": "TsTVT9aavmth",
        "colab_type": "code",
        "colab": {
          "base_uri": "https://localhost:8080/",
          "height": 34
        },
        "outputId": "d3865d45-3f21-4470-fdbc-f98b91c5374a"
      },
      "source": [
        "'''\n",
        "\n",
        "CAGR = (V_final/V_begin)^(1/t) - 1\n",
        "\n",
        "V_final is the final value of the asset\n",
        "V_begin is the beginning value of the asset\n",
        "t is the time in years\n",
        "\n",
        "'''"
      ],
      "execution_count": 12,
      "outputs": [
        {
          "output_type": "execute_result",
          "data": {
            "text/plain": [
              "'\\n\\nCAGR = (V_final/V_begin)^(1/t) - 1\\n\\nV_final is the final value of the asset\\nV_begin is the beginning value of the asset\\nt is the time in years\\n\\n'"
            ]
          },
          "metadata": {
            "tags": []
          },
          "execution_count": 12
        }
      ]
    },
    {
      "cell_type": "code",
      "metadata": {
        "id": "59wRbEZovmq9",
        "colab_type": "code",
        "colab": {}
      },
      "source": [
        "# def a function that calculate the CAGR\n",
        "# This is a single value of CAGR\n",
        "def CAGR(start, end, period):\n",
        "    V_begin = start\n",
        "    V_final = end\n",
        "    t = period\n",
        "    return (V_final/V_begin)**(1/t) - 1"
      ],
      "execution_count": 0,
      "outputs": []
    },
    {
      "cell_type": "code",
      "metadata": {
        "id": "-KgGBh0dvmoc",
        "colab_type": "code",
        "outputId": "70bd4f69-fc35-4010-a5a7-303396c453bc",
        "colab": {
          "base_uri": "https://localhost:8080/",
          "height": 34
        }
      },
      "source": [
        "# example \n",
        "CAGR(10000, 19000, 3)"
      ],
      "execution_count": 14,
      "outputs": [
        {
          "output_type": "execute_result",
          "data": {
            "text/plain": [
              "0.23856232963017088"
            ]
          },
          "metadata": {
            "tags": []
          },
          "execution_count": 14
        }
      ]
    },
    {
      "cell_type": "markdown",
      "metadata": {
        "id": "HT0uxh-wtqMG",
        "colab_type": "text"
      },
      "source": [
        "- Holding Period Return\n",
        "\n",
        "Holding period return (HPR) is simply the percentage increase in the value of an investment over a given time period:\n",
        "\n",
        "\n",
        "    holding period return  = end-of-period value / beginning-of-period value - 1\n"
      ]
    },
    {
      "cell_type": "markdown",
      "metadata": {
        "id": "Hqzv8cZ5ulBL",
        "colab_type": "text"
      },
      "source": [
        "- Average Returns\n",
        "\n",
        "The arithmetic mean return is the simple average of a series of periodic rate of return vary from period to period.\n",
        "\n",
        "    arithmetic mean return = (R1 + R2 + R3 + ... + Rn) / n\n",
        "\n",
        "where Rn is the return over different period of time\n",
        "\n",
        "The geometric mean return is a compound annual rate.\n",
        "\n",
        "    geometric mean return  = root of n((1 + R1) * (1 + R2) * ... * (1 + Rn)) - 1"
      ]
    },
    {
      "cell_type": "markdown",
      "metadata": {
        "id": "-EwImNIPGFa4",
        "colab_type": "text"
      },
      "source": [
        "- RSI (Relative Strength Index) \n",
        "\n",
        "The RSI is a popular momentum oscillator developed in 1978.\n",
        "\n",
        "The RSI shows **bullish** and **bearish** price momentum, and it is often plotted beneath the graph of an asset's price.\n",
        "\n",
        "An asset is usually considered overbought when the RSI is **above 70%** and oversold when it is **below 30%**.\n",
        "\n",
        "The relative strength index (RSI) is computed with a two-part calculation that starts with the following formula:\n",
        "\n",
        "$$\n",
        "RSI = 100 - ( \\frac{100}{1 + \\frac{AverageGain}{AverageLoss}})\n",
        "$$\n",
        "\n",
        "The average gain or loss used in the calculation is the **average percentage gain or loss during a look-back period**. The formula uses a positive value for the average loss.\n",
        "\n",
        "The standard is to use **14 periods** to calculate the initial RSI value. For example, imagine the market closed higher seven out of the past 14 days with an average gain of 1%. The remaining seven days all closed lower with an average loss of -0.8%. The calculation for the first part of the RSI would look like the following expanded calculation:"
      ]
    },
    {
      "cell_type": "markdown",
      "metadata": {
        "id": "7_--XRSqASfX",
        "colab_type": "text"
      },
      "source": [
        "Quick way to calculate RSI:\n",
        "\n",
        "    First Average Gain = Sum of Gains over the past 14 periods / 14\n",
        "    First Average Loss = Sum of Losses over the past 14 periods / 14\n",
        "\n",
        "    Then\n",
        "\n",
        "    Average Gain = [(previous Average Gain) x 13 + current Gain] / 14\n",
        "    Average Loss = [(previous Average Loss) x 13 + current Loss] / 14\n"
      ]
    },
    {
      "cell_type": "markdown",
      "metadata": {
        "id": "_Gcn2CcOSOQh",
        "colab_type": "text"
      },
      "source": [
        "![EXAMPLE](https://tinyurl.com/ycktvv23) [link text](https://tinyurl.com/ycktvv23)"
      ]
    },
    {
      "cell_type": "code",
      "metadata": {
        "id": "3ZWOVYE6uRjB",
        "colab_type": "code",
        "colab": {}
      },
      "source": [
        ""
      ],
      "execution_count": 0,
      "outputs": []
    },
    {
      "cell_type": "markdown",
      "metadata": {
        "id": "75rnErT4v9CI",
        "colab_type": "text"
      },
      "source": [
        "# Risk Metrics and Volatility Measurement"
      ]
    },
    {
      "cell_type": "markdown",
      "metadata": {
        "id": "Sy5aZn9zwjqw",
        "colab_type": "text"
      },
      "source": [
        "- Variance (Standard Deviation) of Returns for an Individeal Security\n",
        "\n",
        "In finance, the variance and standard deviation of returns are common measures of investment risk. Both of thjese are measures of the variability of a distribution of returns about its mean and expected value.\n"
      ]
    },
    {
      "cell_type": "markdown",
      "metadata": {
        "id": "UqSyzCN4xq3s",
        "colab_type": "text"
      },
      "source": [
        "$$\n",
        "\\sigma^2 = \\frac{\\displaystyle\\sum_{i=1}^{n}(x_i - \\mu)^2} {n}\n",
        "$$"
      ]
    },
    {
      "cell_type": "markdown",
      "metadata": {
        "id": "GgbRH2AtycIv",
        "colab_type": "text"
      },
      "source": [
        "- Covariance and Correlation of Returns for Two Securities\n",
        "\n",
        "Covariance measures the extent to which two variables move together over time. A positive covariance means that the variables tend to move together. A covariance of zero means there is no linear relationship between the two variables.\n",
        "\n",
        "$$\n",
        "cov_{x,y}=\\frac{\\sum_{i=1}^{N}(x_{i}-\\bar{x})(y_{i}-\\bar{y})}{N-1}\n",
        "$$\n",
        "\n",
        "The covariance of the returns of two securities can be standardized by divding by the product of the standard deviations of the two securities. This standardized measure of co-movement is called **correlation** and is computed as:\n",
        "\n",
        "$$\n",
        "\\rho = \\frac{\\text{cov}(X,Y)}{\\sigma_x \\sigma_y}\n",
        "$$"
      ]
    },
    {
      "cell_type": "code",
      "metadata": {
        "id": "Xk4_xuFowCSs",
        "colab_type": "code",
        "colab": {}
      },
      "source": [
        ""
      ],
      "execution_count": 0,
      "outputs": []
    },
    {
      "cell_type": "code",
      "metadata": {
        "id": "24xn7czmwCVQ",
        "colab_type": "code",
        "colab": {}
      },
      "source": [
        ""
      ],
      "execution_count": 0,
      "outputs": []
    },
    {
      "cell_type": "code",
      "metadata": {
        "id": "VAAHAp-4ku9O",
        "colab_type": "code",
        "colab": {}
      },
      "source": [
        ""
      ],
      "execution_count": 0,
      "outputs": []
    },
    {
      "cell_type": "markdown",
      "metadata": {
        "id": "gzoBmxt13sR1",
        "colab_type": "text"
      },
      "source": [
        "# Trading Alorithm\n",
        "### Pairs Trading\n",
        "Pairs trading is a form of mean reversion that has a distinct advantage of always being hedged against market movements. It is generally a high alpha strategy when backed up by some rigorous statistics. \n"
      ]
    },
    {
      "cell_type": "code",
      "metadata": {
        "id": "fyycV-Io3zlK",
        "colab_type": "code",
        "colab": {}
      },
      "source": [
        ""
      ],
      "execution_count": 0,
      "outputs": []
    },
    {
      "cell_type": "code",
      "metadata": {
        "id": "Qoc4lmgC3zsR",
        "colab_type": "code",
        "colab": {}
      },
      "source": [
        ""
      ],
      "execution_count": 0,
      "outputs": []
    },
    {
      "cell_type": "code",
      "metadata": {
        "id": "pTDUUmrG3zpv",
        "colab_type": "code",
        "colab": {}
      },
      "source": [
        ""
      ],
      "execution_count": 0,
      "outputs": []
    },
    {
      "cell_type": "markdown",
      "metadata": {
        "id": "ERGljytMeG8R",
        "colab_type": "text"
      },
      "source": [
        "### Cointegration and Mean Reversion"
      ]
    },
    {
      "cell_type": "markdown",
      "metadata": {
        "id": "uYWgVWpIeKPe",
        "colab_type": "text"
      },
      "source": [
        "The idea behind cointegration is that even if the prices of two different assets both follow random walks, it is still possible that a linear combination of them is not a random walk. "
      ]
    },
    {
      "cell_type": "code",
      "metadata": {
        "id": "6FEDxO0aeQWd",
        "colab_type": "code",
        "colab": {}
      },
      "source": [
        ""
      ],
      "execution_count": 0,
      "outputs": []
    },
    {
      "cell_type": "code",
      "metadata": {
        "id": "14K2lIcveQjO",
        "colab_type": "code",
        "outputId": "7b951113-9b65-47c3-b987-6e3177f04609",
        "colab": {
          "base_uri": "https://localhost:8080/",
          "height": 34
        }
      },
      "source": [
        "# TSLA stock price\n",
        "# start 2019-01-01\n",
        "# end 2020-05-01\n",
        "tsla = yf.download('TSLA', start='2018-01-01', end='2020-05-01')"
      ],
      "execution_count": 16,
      "outputs": [
        {
          "output_type": "stream",
          "text": [
            "\r[*********************100%***********************]  1 of 1 completed\n"
          ],
          "name": "stdout"
        }
      ]
    },
    {
      "cell_type": "code",
      "metadata": {
        "id": "HfzfhDf7eQgq",
        "colab_type": "code",
        "outputId": "4e402ac4-5312-4267-b9a5-9a0c8c1c66a3",
        "colab": {
          "base_uri": "https://localhost:8080/",
          "height": 235
        }
      },
      "source": [
        "tsla.head()"
      ],
      "execution_count": 17,
      "outputs": [
        {
          "output_type": "execute_result",
          "data": {
            "text/html": [
              "<div>\n",
              "<style scoped>\n",
              "    .dataframe tbody tr th:only-of-type {\n",
              "        vertical-align: middle;\n",
              "    }\n",
              "\n",
              "    .dataframe tbody tr th {\n",
              "        vertical-align: top;\n",
              "    }\n",
              "\n",
              "    .dataframe thead th {\n",
              "        text-align: right;\n",
              "    }\n",
              "</style>\n",
              "<table border=\"1\" class=\"dataframe\">\n",
              "  <thead>\n",
              "    <tr style=\"text-align: right;\">\n",
              "      <th></th>\n",
              "      <th>Open</th>\n",
              "      <th>High</th>\n",
              "      <th>Low</th>\n",
              "      <th>Close</th>\n",
              "      <th>Adj Close</th>\n",
              "      <th>Volume</th>\n",
              "    </tr>\n",
              "    <tr>\n",
              "      <th>Date</th>\n",
              "      <th></th>\n",
              "      <th></th>\n",
              "      <th></th>\n",
              "      <th></th>\n",
              "      <th></th>\n",
              "      <th></th>\n",
              "    </tr>\n",
              "  </thead>\n",
              "  <tbody>\n",
              "    <tr>\n",
              "      <th>2018-01-02</th>\n",
              "      <td>312.000000</td>\n",
              "      <td>322.109985</td>\n",
              "      <td>311.000000</td>\n",
              "      <td>320.529999</td>\n",
              "      <td>320.529999</td>\n",
              "      <td>4352200</td>\n",
              "    </tr>\n",
              "    <tr>\n",
              "      <th>2018-01-03</th>\n",
              "      <td>321.000000</td>\n",
              "      <td>325.250000</td>\n",
              "      <td>315.549988</td>\n",
              "      <td>317.250000</td>\n",
              "      <td>317.250000</td>\n",
              "      <td>4521500</td>\n",
              "    </tr>\n",
              "    <tr>\n",
              "      <th>2018-01-04</th>\n",
              "      <td>312.869995</td>\n",
              "      <td>318.549988</td>\n",
              "      <td>305.679993</td>\n",
              "      <td>314.619995</td>\n",
              "      <td>314.619995</td>\n",
              "      <td>9946300</td>\n",
              "    </tr>\n",
              "    <tr>\n",
              "      <th>2018-01-05</th>\n",
              "      <td>316.619995</td>\n",
              "      <td>317.239990</td>\n",
              "      <td>312.000000</td>\n",
              "      <td>316.579987</td>\n",
              "      <td>316.579987</td>\n",
              "      <td>4591200</td>\n",
              "    </tr>\n",
              "    <tr>\n",
              "      <th>2018-01-08</th>\n",
              "      <td>316.000000</td>\n",
              "      <td>337.019989</td>\n",
              "      <td>315.500000</td>\n",
              "      <td>336.410004</td>\n",
              "      <td>336.410004</td>\n",
              "      <td>9859400</td>\n",
              "    </tr>\n",
              "  </tbody>\n",
              "</table>\n",
              "</div>"
            ],
            "text/plain": [
              "                  Open        High         Low       Close   Adj Close   Volume\n",
              "Date                                                                           \n",
              "2018-01-02  312.000000  322.109985  311.000000  320.529999  320.529999  4352200\n",
              "2018-01-03  321.000000  325.250000  315.549988  317.250000  317.250000  4521500\n",
              "2018-01-04  312.869995  318.549988  305.679993  314.619995  314.619995  9946300\n",
              "2018-01-05  316.619995  317.239990  312.000000  316.579987  316.579987  4591200\n",
              "2018-01-08  316.000000  337.019989  315.500000  336.410004  336.410004  9859400"
            ]
          },
          "metadata": {
            "tags": []
          },
          "execution_count": 17
        }
      ]
    },
    {
      "cell_type": "code",
      "metadata": {
        "id": "a_IEf2UjeQd0",
        "colab_type": "code",
        "outputId": "cfba15d4-801e-4cf0-fb35-a2799a7ec724",
        "colab": {
          "base_uri": "https://localhost:8080/",
          "height": 34
        }
      },
      "source": [
        "spy = yf.download('SPY', start='2018-01-01', end='2020-05-01')"
      ],
      "execution_count": 18,
      "outputs": [
        {
          "output_type": "stream",
          "text": [
            "\r[*********************100%***********************]  1 of 1 completed\n"
          ],
          "name": "stdout"
        }
      ]
    },
    {
      "cell_type": "code",
      "metadata": {
        "id": "NkiFkcwLEZnR",
        "colab_type": "code",
        "colab": {
          "base_uri": "https://localhost:8080/",
          "height": 153
        },
        "outputId": "02782ea5-cb50-48a8-b1f1-8e0b853aa8b6"
      },
      "source": [
        "tsla.index"
      ],
      "execution_count": 21,
      "outputs": [
        {
          "output_type": "execute_result",
          "data": {
            "text/plain": [
              "DatetimeIndex(['2018-01-02', '2018-01-03', '2018-01-04', '2018-01-05',\n",
              "               '2018-01-08', '2018-01-09', '2018-01-10', '2018-01-11',\n",
              "               '2018-01-12', '2018-01-16',\n",
              "               ...\n",
              "               '2020-04-17', '2020-04-20', '2020-04-21', '2020-04-22',\n",
              "               '2020-04-23', '2020-04-24', '2020-04-27', '2020-04-28',\n",
              "               '2020-04-29', '2020-04-30'],\n",
              "              dtype='datetime64[ns]', name='Date', length=586, freq=None)"
            ]
          },
          "metadata": {
            "tags": []
          },
          "execution_count": 21
        }
      ]
    },
    {
      "cell_type": "code",
      "metadata": {
        "id": "1WqL-yIUeQbY",
        "colab_type": "code",
        "outputId": "9e2cca47-bc51-4829-da6a-45535c0f74d6",
        "colab": {
          "base_uri": "https://localhost:8080/",
          "height": 553
        }
      },
      "source": [
        "fig,ax = plt.subplots(figsize = (20,9))\n",
        "\n",
        "ax.plot(tsla['Close'], label = 'Tesla')\n",
        "ax.plot(spy['Close'], label = 'SPY&500')\n",
        "\n",
        "ax.set_title('Close Price')\n",
        "plt.legend();"
      ],
      "execution_count": 0,
      "outputs": [
        {
          "output_type": "display_data",
          "data": {
            "image/png": "[encoded data removed]",
            "text/plain": [
              "<Figure size 1440x648 with 1 Axes>"
            ]
          },
          "metadata": {
            "tags": [],
            "needs_background": "light"
          }
        }
      ]
    },
    {
      "cell_type": "markdown",
      "metadata": {
        "id": "D16AHAjoCUsx",
        "colab_type": "text"
      },
      "source": [
        "RSI functions"
      ]
    },
    {
      "cell_type": "code",
      "metadata": {
        "id": "3Mq3Yi-mMkX9",
        "colab_type": "code",
        "colab": {}
      },
      "source": [
        "def RSI(series, period=14):\n",
        "    # Get the difference in price from previous price\n",
        "    series = series.copy().diff(1)\n",
        "\n",
        "    # Get upwards and downwards gains (loss will be positive)\n",
        "    gain, loss = series.copy(), series.copy()\n",
        "    gain[gain < 0] = 0\n",
        "    loss[loss > 0] = 0\n",
        "\n",
        "    # Calculate the exponential weighted values\n",
        "    roll_gain1 = gain.ewm(span = period, min_periods = 0, adjust = False, ignore_na = False).mean()\n",
        "    roll_loss1 = loss.abs().ewm(span = period, min_periods = 0, adjust = False, ignore_na = False).mean()\n",
        "\n",
        "    # Calculate the RSI based on EWMA\n",
        "    RS1 = roll_gain1 / roll_loss1\n",
        "    RSI1 = 100.0 - (100.0 / (1.0 + RS1))\n",
        "\n",
        "    return(RSI1)"
      ],
      "execution_count": 0,
      "outputs": []
    },
    {
      "cell_type": "code",
      "metadata": {
        "id": "410fPmXzMkVy",
        "colab_type": "code",
        "colab": {}
      },
      "source": [
        "spy_rsi = spy[['Adj Close']]"
      ],
      "execution_count": 0,
      "outputs": []
    },
    {
      "cell_type": "code",
      "metadata": {
        "id": "S1gBu7sCE9Mp",
        "colab_type": "code",
        "colab": {
          "base_uri": "https://localhost:8080/",
          "height": 510
        },
        "outputId": "e65780a8-e65d-4c97-bc7a-9a20c69f408f"
      },
      "source": [
        "spy_rsi['daily_change'] = spy_rsi['Adj Close'].diff(1)\n",
        "spy_rsi['gain'] = spy_rsi[spy_rsi['daily_change'] > 0]['daily_change']\n",
        "spy_rsi['loss'] = spy_rsi[spy_rsi['daily_change'] < 0]['daily_change']\n",
        "spy_rsi.fillna(0, inplace=True)\n",
        "\n",
        "spy_rsi['avg_gain'] = spy_rsi['gain'].ewm(span = 14, min_periods = 0, adjust = False, ignore_na = False).mean()\n",
        "spy_rsi['avg_loss'] = spy_rsi['loss'].ewm(span = 14, min_periods = 0, adjust = False, ignore_na = False).mean()\n"
      ],
      "execution_count": 67,
      "outputs": [
        {
          "output_type": "stream",
          "text": [
            "/usr/local/lib/python3.6/dist-packages/ipykernel_launcher.py:1: SettingWithCopyWarning: \n",
            "A value is trying to be set on a copy of a slice from a DataFrame.\n",
            "Try using .loc[row_indexer,col_indexer] = value instead\n",
            "\n",
            "See the caveats in the documentation: https://pandas.pydata.org/pandas-docs/stable/user_guide/indexing.html#returning-a-view-versus-a-copy\n",
            "  \"\"\"Entry point for launching an IPython kernel.\n",
            "/usr/local/lib/python3.6/dist-packages/ipykernel_launcher.py:2: SettingWithCopyWarning: \n",
            "A value is trying to be set on a copy of a slice from a DataFrame.\n",
            "Try using .loc[row_indexer,col_indexer] = value instead\n",
            "\n",
            "See the caveats in the documentation: https://pandas.pydata.org/pandas-docs/stable/user_guide/indexing.html#returning-a-view-versus-a-copy\n",
            "  \n",
            "/usr/local/lib/python3.6/dist-packages/ipykernel_launcher.py:3: SettingWithCopyWarning: \n",
            "A value is trying to be set on a copy of a slice from a DataFrame.\n",
            "Try using .loc[row_indexer,col_indexer] = value instead\n",
            "\n",
            "See the caveats in the documentation: https://pandas.pydata.org/pandas-docs/stable/user_guide/indexing.html#returning-a-view-versus-a-copy\n",
            "  This is separate from the ipykernel package so we can avoid doing imports until\n",
            "/usr/local/lib/python3.6/dist-packages/pandas/core/frame.py:4153: SettingWithCopyWarning: \n",
            "A value is trying to be set on a copy of a slice from a DataFrame\n",
            "\n",
            "See the caveats in the documentation: https://pandas.pydata.org/pandas-docs/stable/user_guide/indexing.html#returning-a-view-versus-a-copy\n",
            "  downcast=downcast,\n",
            "/usr/local/lib/python3.6/dist-packages/ipykernel_launcher.py:6: SettingWithCopyWarning: \n",
            "A value is trying to be set on a copy of a slice from a DataFrame.\n",
            "Try using .loc[row_indexer,col_indexer] = value instead\n",
            "\n",
            "See the caveats in the documentation: https://pandas.pydata.org/pandas-docs/stable/user_guide/indexing.html#returning-a-view-versus-a-copy\n",
            "  \n"
          ],
          "name": "stderr"
        }
      ]
    },
    {
      "cell_type": "code",
      "metadata": {
        "id": "-VTQIkBrJUJm",
        "colab_type": "code",
        "colab": {
          "base_uri": "https://localhost:8080/",
          "height": 238
        },
        "outputId": "4f5cdb9d-2d78-4b15-a96f-f253023427c8"
      },
      "source": [
        "spy_rsi['gain'].ewm(span = 12).mean()"
      ],
      "execution_count": 71,
      "outputs": [
        {
          "output_type": "execute_result",
          "data": {
            "text/plain": [
              "Date\n",
              "2018-01-02    0.000000\n",
              "2018-01-03    0.881680\n",
              "2018-01-04    0.963581\n",
              "2018-01-05    1.206476\n",
              "2018-01-08    1.008767\n",
              "                ...   \n",
              "2020-04-24    3.185530\n",
              "2020-04-27    3.323139\n",
              "2020-04-28    2.811887\n",
              "2020-04-29    3.530055\n",
              "2020-04-30    2.986970\n",
              "Name: gain, Length: 586, dtype: float64"
            ]
          },
          "metadata": {
            "tags": []
          },
          "execution_count": 71
        }
      ]
    },
    {
      "cell_type": "code",
      "metadata": {
        "id": "Wbs2WQz9F5Ix",
        "colab_type": "code",
        "colab": {
          "base_uri": "https://localhost:8080/",
          "height": 235
        },
        "outputId": "6c96c9fa-cd5e-494f-d060-71ce910b9ffe"
      },
      "source": [
        "spy_rsi.head()"
      ],
      "execution_count": 72,
      "outputs": [
        {
          "output_type": "execute_result",
          "data": {
            "text/html": [
              "<div>\n",
              "<style scoped>\n",
              "    .dataframe tbody tr th:only-of-type {\n",
              "        vertical-align: middle;\n",
              "    }\n",
              "\n",
              "    .dataframe tbody tr th {\n",
              "        vertical-align: top;\n",
              "    }\n",
              "\n",
              "    .dataframe thead th {\n",
              "        text-align: right;\n",
              "    }\n",
              "</style>\n",
              "<table border=\"1\" class=\"dataframe\">\n",
              "  <thead>\n",
              "    <tr style=\"text-align: right;\">\n",
              "      <th></th>\n",
              "      <th>Adj Close</th>\n",
              "      <th>daily_change</th>\n",
              "      <th>gain</th>\n",
              "      <th>loss</th>\n",
              "      <th>avg_gain</th>\n",
              "      <th>avg_loss</th>\n",
              "    </tr>\n",
              "    <tr>\n",
              "      <th>Date</th>\n",
              "      <th></th>\n",
              "      <th></th>\n",
              "      <th></th>\n",
              "      <th></th>\n",
              "      <th></th>\n",
              "      <th></th>\n",
              "    </tr>\n",
              "  </thead>\n",
              "  <tbody>\n",
              "    <tr>\n",
              "      <th>2018-01-02</th>\n",
              "      <td>257.345001</td>\n",
              "      <td>0.000000</td>\n",
              "      <td>0.000000</td>\n",
              "      <td>0.0</td>\n",
              "      <td>0.000000</td>\n",
              "      <td>0.0</td>\n",
              "    </tr>\n",
              "    <tr>\n",
              "      <th>2018-01-03</th>\n",
              "      <td>258.972717</td>\n",
              "      <td>1.627716</td>\n",
              "      <td>1.627716</td>\n",
              "      <td>0.0</td>\n",
              "      <td>0.217029</td>\n",
              "      <td>0.0</td>\n",
              "    </tr>\n",
              "    <tr>\n",
              "      <th>2018-01-04</th>\n",
              "      <td>260.064240</td>\n",
              "      <td>1.091522</td>\n",
              "      <td>1.091522</td>\n",
              "      <td>0.0</td>\n",
              "      <td>0.333628</td>\n",
              "      <td>0.0</td>\n",
              "    </tr>\n",
              "    <tr>\n",
              "      <th>2018-01-05</th>\n",
              "      <td>261.797302</td>\n",
              "      <td>1.733063</td>\n",
              "      <td>1.733063</td>\n",
              "      <td>0.0</td>\n",
              "      <td>0.520219</td>\n",
              "      <td>0.0</td>\n",
              "    </tr>\n",
              "    <tr>\n",
              "      <th>2018-01-08</th>\n",
              "      <td>262.276093</td>\n",
              "      <td>0.478790</td>\n",
              "      <td>0.478790</td>\n",
              "      <td>0.0</td>\n",
              "      <td>0.514695</td>\n",
              "      <td>0.0</td>\n",
              "    </tr>\n",
              "  </tbody>\n",
              "</table>\n",
              "</div>"
            ],
            "text/plain": [
              "             Adj Close  daily_change      gain  loss  avg_gain  avg_loss\n",
              "Date                                                                    \n",
              "2018-01-02  257.345001      0.000000  0.000000   0.0  0.000000       0.0\n",
              "2018-01-03  258.972717      1.627716  1.627716   0.0  0.217029       0.0\n",
              "2018-01-04  260.064240      1.091522  1.091522   0.0  0.333628       0.0\n",
              "2018-01-05  261.797302      1.733063  1.733063   0.0  0.520219       0.0\n",
              "2018-01-08  262.276093      0.478790  0.478790   0.0  0.514695       0.0"
            ]
          },
          "metadata": {
            "tags": []
          },
          "execution_count": 72
        }
      ]
    },
    {
      "cell_type": "code",
      "metadata": {
        "id": "qZhxYVpeFFob",
        "colab_type": "code",
        "colab": {}
      },
      "source": [
        "# apply function and set up period\n",
        "rsi_period = 14\n",
        "\n",
        "spy_rsi['RSI'] = RSI(spy_rsi['Adj Close'], rsi_period)"
      ],
      "execution_count": 0,
      "outputs": []
    },
    {
      "cell_type": "code",
      "metadata": {
        "id": "8gr5mPIlE-PC",
        "colab_type": "code",
        "colab": {
          "base_uri": "https://localhost:8080/",
          "height": 499
        },
        "outputId": "df77b082-097d-4c89-db71-761de1a4c95f"
      },
      "source": [
        "# plot the rsi \n",
        "\n",
        "fig, ax = plt.subplots(figsize=(20, 8))\n",
        " \n",
        "plt.plot(spy_rsi.index, spy_rsi['RSI'], color='red', label = 'RSI')\n",
        "plt.title('SPY&500 - ' + str(rsi_period) + ' Bar Period')\n",
        "plt.grid()\n",
        "ax.legend(loc='upper left', frameon=False)\n",
        "\n",
        "# overbought\n",
        "plt.axhline(70, color='gray', linewidth=2, linestyle='-.' )\n",
        "# oversold\n",
        "plt.axhline(30, color='gray', linewidth=2, linestyle='-.' )\n",
        "\n",
        "# Get second axis\n",
        "ax2 = ax.twinx()\n",
        "plt.plot(spy_rsi.index,  spy_rsi['Adj Close'], label='Price',color='blue')\n",
        "ax2.legend(loc='upper right', frameon=False);"
      ],
      "execution_count": 91,
      "outputs": [
        {
          "output_type": "display_data",
          "data": {
            "image/png": "[encoded data removed]",
            "text/plain": [
              "<Figure size 1440x576 with 2 Axes>"
            ]
          },
          "metadata": {
            "tags": [],
            "needs_background": "light"
          }
        }
      ]
    },
    {
      "cell_type": "code",
      "metadata": {
        "id": "nuBxQhS7Nvzg",
        "colab_type": "code",
        "colab": {}
      },
      "source": [
        ""
      ],
      "execution_count": 0,
      "outputs": []
    }
  ]
}